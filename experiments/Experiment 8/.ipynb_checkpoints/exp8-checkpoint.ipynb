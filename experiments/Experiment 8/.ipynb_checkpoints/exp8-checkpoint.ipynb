{
 "cells": [
  {
   "cell_type": "code",
   "execution_count": null,
   "metadata": {
    "execution": {
     "iopub.execute_input": "2023-10-24T10:49:48.291234Z",
     "iopub.status.busy": "2023-10-24T10:49:48.290887Z",
     "iopub.status.idle": "2023-10-24T10:50:03.087907Z",
     "shell.execute_reply": "2023-10-24T10:50:03.086538Z",
     "shell.execute_reply.started": "2023-10-24T10:49:48.291205Z"
    },
    "id": "6gSN-1OsItUb"
   },
   "outputs": [],
   "source": [
    "!pip install ultralytics"
   ]
  },
  {
   "cell_type": "code",
   "execution_count": null,
   "metadata": {
    "execution": {
     "iopub.execute_input": "2023-10-24T10:50:34.750976Z",
     "iopub.status.busy": "2023-10-24T10:50:34.750582Z",
     "iopub.status.idle": "2023-10-24T10:50:48.641566Z",
     "shell.execute_reply": "2023-10-24T10:50:48.640381Z",
     "shell.execute_reply.started": "2023-10-24T10:50:34.750947Z"
    },
    "id": "AJVRTF_rIzXD"
   },
   "outputs": [],
   "source": [
    "!pip install clearml"
   ]
  },
  {
   "cell_type": "code",
   "execution_count": null,
   "metadata": {
    "execution": {
     "iopub.execute_input": "2023-10-24T10:53:10.633420Z",
     "iopub.status.busy": "2023-10-24T10:53:10.632802Z",
     "iopub.status.idle": "2023-10-24T10:53:10.637636Z",
     "shell.execute_reply": "2023-10-24T10:53:10.636778Z",
     "shell.execute_reply.started": "2023-10-24T10:53:10.633390Z"
    },
    "id": "FWMuyytQHBxl"
   },
   "outputs": [],
   "source": [
    "from ultralytics import YOLO\n",
    "from clearml import Task\n",
    "from clearml import Dataset"
   ]
  },
  {
   "cell_type": "code",
   "execution_count": null,
   "metadata": {
    "execution": {
     "iopub.execute_input": "2023-10-24T10:58:18.994721Z",
     "iopub.status.busy": "2023-10-24T10:58:18.994341Z",
     "iopub.status.idle": "2023-10-24T10:58:40.934300Z",
     "shell.execute_reply": "2023-10-24T10:58:40.933358Z",
     "shell.execute_reply.started": "2023-10-24T10:58:18.994688Z"
    },
    "id": "RYUOAV3zTOeq"
   },
   "outputs": [],
   "source": [
    "dataset = Dataset.get(dataset_id='4b1238c811244b8588510687832ad98f')\n",
    "dataset.get_mutable_local_copy(target_folder='Dataset_for_YOLO')"
   ]
  },
  {
   "cell_type": "code",
   "execution_count": null,
   "metadata": {
    "execution": {
     "iopub.execute_input": "2023-10-24T10:58:47.530626Z",
     "iopub.status.busy": "2023-10-24T10:58:47.529659Z",
     "iopub.status.idle": "2023-10-24T10:59:03.869973Z",
     "shell.execute_reply": "2023-10-24T10:59:03.867714Z",
     "shell.execute_reply.started": "2023-10-24T10:58:47.530568Z"
    },
    "id": "1LJwwYphTOyr"
   },
   "outputs": [],
   "source": [
    "task = Task.init(project_name=\"Variant0.1\", task_name=\"YOLOv8s_training_0.7\")"
   ]
  },
  {
   "cell_type": "code",
   "execution_count": null,
   "metadata": {
    "execution": {
     "iopub.execute_input": "2023-10-24T11:04:20.044787Z",
     "iopub.status.busy": "2023-10-24T11:04:20.043915Z",
     "iopub.status.idle": "2023-10-24T11:45:48.230796Z",
     "shell.execute_reply": "2023-10-24T11:45:48.229624Z",
     "shell.execute_reply.started": "2023-10-24T11:04:20.044754Z"
    },
    "id": "yKJNDPQoIQri"
   },
   "outputs": [],
   "source": [
    "imgsz = 608\n",
    "epochs = 1000\n",
    "batch = 50\n",
    "patience = 10\n",
    "close_mosaic = int(epochs/5)\n",
    "model_variant = \"yolov8s\"\n",
    "\n",
    "task.set_parameter(\"model_variant\", model_variant)\n",
    "args = dict(data='Dataset_for_YOLO/data.yaml',\n",
    "            epochs=epochs,\n",
    "            imgsz=imgsz,\n",
    "            batch=batch,\n",
    "            patience=patience,\n",
    "            close_mosaic=close_mosaic)\n",
    "\n",
    "model = YOLO(f'{model_variant}.pt')\n",
    "task.connect(args)\n",
    "\n",
    "# Train the model\n",
    "# If running remotely, the arguments may be overridden by ClearML if they were changed in the UI\n",
    "results = model.train(**args)"
   ]
  },
  {
   "cell_type": "code",
   "execution_count": null,
   "metadata": {
    "_kg_hide-input": true,
    "execution": {
     "iopub.execute_input": "2023-10-24T12:51:19.144948Z",
     "iopub.status.busy": "2023-10-24T12:51:19.144681Z",
     "iopub.status.idle": "2023-10-24T12:51:19.471921Z",
     "shell.execute_reply": "2023-10-24T12:51:19.470563Z",
     "shell.execute_reply.started": "2023-10-24T12:51:19.144924Z"
    },
    "id": "pXPFRvoo4Jtz"
   },
   "outputs": [],
   "source": [
    "task.close()"
   ]
  }
 ],
 "metadata": {
  "accelerator": "GPU",
  "colab": {
   "gpuType": "T4",
   "provenance": []
  },
  "kernelspec": {
   "display_name": "Python 3 (ipykernel)",
   "language": "python",
   "name": "python3"
  },
  "language_info": {
   "codemirror_mode": {
    "name": "ipython",
    "version": 3
   },
   "file_extension": ".py",
   "mimetype": "text/x-python",
   "name": "python",
   "nbconvert_exporter": "python",
   "pygments_lexer": "ipython3",
   "version": "3.10.13"
  }
 },
 "nbformat": 4,
 "nbformat_minor": 1
}
