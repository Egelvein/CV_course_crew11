{
  "cells": [
    {
      "cell_type": "code",
      "execution_count": null,
      "metadata": {
        "id": "6gSN-1OsItUb"
      },
      "outputs": [],
      "source": [
        "!git clone https://github.com/ultralytics/yolov5  # clone"
      ]
    },
    {
      "cell_type": "code",
      "execution_count": null,
      "metadata": {
        "id": "t8QNSgeb0FT0"
      },
      "outputs": [],
      "source": [
        "!pip install -r yolov5/requirements.txt  # install"
      ]
    },
    {
      "cell_type": "code",
      "execution_count": null,
      "metadata": {
        "id": "AJVRTF_rIzXD"
      },
      "outputs": [],
      "source": [
        "!pip install clearml"
      ]
    },
    {
      "cell_type": "code",
      "execution_count": null,
      "metadata": {
        "id": "FWMuyytQHBxl"
      },
      "outputs": [],
      "source": [
        "import zipfile\n",
        "import os\n",
        "from ultralytics import YOLO\n",
        "from clearml import Task, Logger\n",
        "from clearml import Dataset"
      ]
    },
    {
      "cell_type": "code",
      "execution_count": null,
      "metadata": {
        "id": "SFpCrFEemvmS"
      },
      "outputs": [],
      "source": [
        "!clearml-init"
      ]
    },
    {
      "cell_type": "code",
      "execution_count": null,
      "metadata": {
        "id": "RYUOAV3zTOeq"
      },
      "outputs": [],
      "source": [
        "# dataset_name = \"Dataset_for_YOLO\"\n",
        "# dataset_project = \"Variant0.1\"\n",
        "\n",
        "from clearml import Dataset\n",
        "\n",
        "dataset = Dataset.get(dataset_id='4b1238c811244b8588510687832ad98f')\n",
        "dataset.get_mutable_local_copy(target_folder='Dataset_for_YOLO')\n"
      ]
    },
    {
      "cell_type": "code",
      "execution_count": null,
      "metadata": {
        "colab": {
          "background_save": true
        },
        "id": "1LJwwYphTOyr"
      },
      "outputs": [],
      "source": [
        "task = Task.init(project_name=\"Variant0.1\", task_name=\"YOLOv5_training_0.1\")\n"
      ]
    },
    {
      "cell_type": "code",
      "execution_count": null,
      "metadata": {
        "id": "yKJNDPQoIQri"
      },
      "outputs": [],
      "source": [
        "#model = YOLO('yolov8s.pt')\n",
        "#task = Task.init(project_name=\"Variant0.1\", task_name=\"YOLOv8_training_0.3\")\n",
        "imgsz = 608\n",
        "epochs = 20\n",
        "batch = 50\n",
        "name = 'YOLOv5s'\n",
        "\n",
        "# Load a model\n",
        "model_variant = \"yolov5s\"\n",
        "# Log \"model_variant\" parameter to task\n",
        "task.set_parameter(\"model_variant\", model_variant)\n",
        "args = dict(data='Dataset_for_YOLO/data.yaml',\n",
        "            epochs=epochs,\n",
        "            imgsz=imgsz,\n",
        "            batch=batch)\n",
        "# Load the YOLOv8 model\n",
        "model = YOLO(f'{model_variant}.pt')\n",
        "\n",
        "task.connect(args)\n",
        "\n",
        "# Train the model\n",
        "# If running remotely, the arguments may be overridden by ClearML if they were changed in the UI\n",
        "results = model.train(**args)"
      ]
    },
    {
      "cell_type": "code",
      "execution_count": null,
      "metadata": {
        "id": "pXPFRvoo4Jtz"
      },
      "outputs": [],
      "source": [
        "task.close()"
      ]
    },
    {
      "cell_type": "code",
      "execution_count": null,
      "metadata": {
        "id": "LGZV96ghRQaw"
      },
      "outputs": [],
      "source": [
        "# model = YOLO(\"runs/detect/train2/weights/best.pt\")"
      ]
    },
    {
      "cell_type": "code",
      "execution_count": null,
      "metadata": {
        "id": "YLw_o30-RkSa"
      },
      "outputs": [],
      "source": [
        "# pre = model.predict(\n",
        "#    source=\"test\",\n",
        "#    show=True,\n",
        "#    imgsz=608,\n",
        "#    hide_labels=True,\n",
        "#    save=True,\n",
        "#    name=\"val_pred\",\n",
        "#    conf=0.1,\n",
        "#    )"
      ]
    }
  ],
  "metadata": {
    "accelerator": "GPU",
    "colab": {
      "provenance": []
    },
    "kernelspec": {
      "display_name": "Python 3",
      "name": "python3"
    },
    "language_info": {
      "name": "python"
    }
  },
  "nbformat": 4,
  "nbformat_minor": 0
}