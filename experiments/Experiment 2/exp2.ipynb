{
 "cells": [
  {
   "cell_type": "code",
   "execution_count": null,
   "metadata": {
    "id": "6gSN-1OsItUb"
   },
   "outputs": [],
   "source": [
    "!pip install ultralytics"
   ]
  },
  {
   "cell_type": "code",
   "execution_count": null,
   "metadata": {
    "id": "AJVRTF_rIzXD"
   },
   "outputs": [],
   "source": [
    "!pip install clearml"
   ]
  },
  {
   "cell_type": "code",
   "execution_count": null,
   "metadata": {
    "id": "FWMuyytQHBxl"
   },
   "outputs": [],
   "source": [
    "import zipfile\n",
    "import os\n",
    "from ultralytics import YOLO\n",
    "from clearml import Task, Logger\n",
    "from clearml import Dataset"
   ]
  },
  {
   "cell_type": "code",
   "execution_count": null,
   "metadata": {
    "id": "SFpCrFEemvmS"
   },
   "outputs": [],
   "source": [
    "!clearml-init"
   ]
  },
  {
   "cell_type": "code",
   "execution_count": null,
   "metadata": {
    "id": "RYUOAV3zTOeq"
   },
   "outputs": [],
   "source": [
    "from clearml import Dataset\n",
    "\n",
    "dataset = Dataset.get(dataset_id='4b1238c811244b8588510687832ad98f')\n",
    "dataset.get_mutable_local_copy(target_folder='Dataset_for_YOLO')"
   ]
  },
  {
   "cell_type": "code",
   "execution_count": null,
   "metadata": {
    "id": "1LJwwYphTOyr"
   },
   "outputs": [],
   "source": [
    "task = Task.init(project_name=\"Variant0.1\", task_name=\"YOLOv8_training_0.3\")"
   ]
  },
  {
   "cell_type": "code",
   "execution_count": null,
   "metadata": {
    "colab": {
     "base_uri": "https://localhost:8080/",
     "height": 1000
    },
    "id": "yKJNDPQoIQri",
    "outputId": "2f4f2759-4e56-4ff1-ba68-736d7b15b4f9"
   },
   "outputs": [],
   "source": [
    "imgsz = 608\n",
    "epochs = 50\n",
    "batch = 50\n",
    "name = 'YOLOv8s'\n",
    "\n",
    "# Load a model\n",
    "model_variant = \"yolov8s\"\n",
    "# Log \"model_variant\" parameter to task\n",
    "task.set_parameter(\"model_variant\", model_variant)\n",
    "args = dict(data='Dataset_for_YOLO/data.yaml',\n",
    "            epochs=epochs,\n",
    "            imgsz=imgsz,\n",
    "            batch=batch)\n",
    "# Load the YOLOv8 model\n",
    "model = YOLO(f'{model_variant}.pt')\n",
    "\n",
    "task.connect(args)\n",
    "\n",
    "# Train the model\n",
    "# If running remotely, the arguments may be overridden by ClearML if they were changed in the UI\n",
    "results = model.train(**args)"
   ]
  },
  {
   "cell_type": "code",
   "execution_count": null,
   "metadata": {
    "id": "pXPFRvoo4Jtz"
   },
   "outputs": [],
   "source": [
    "task.close()"
   ]
  }
 ],
 "metadata": {
  "accelerator": "GPU",
  "colab": {
   "gpuType": "T4",
   "provenance": []
  },
  "kernelspec": {
   "display_name": "Python 3 (ipykernel)",
   "language": "python",
   "name": "python3"
  },
  "language_info": {
   "codemirror_mode": {
    "name": "ipython",
    "version": 3
   },
   "file_extension": ".py",
   "mimetype": "text/x-python",
   "name": "python",
   "nbconvert_exporter": "python",
   "pygments_lexer": "ipython3",
   "version": "3.10.13"
  }
 },
 "nbformat": 4,
 "nbformat_minor": 1
}
