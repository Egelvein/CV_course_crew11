{
 "cells": [
  {
   "cell_type": "code",
   "execution_count": null,
   "metadata": {
    "id": "6gSN-1OsItUb"
   },
   "outputs": [],
   "source": [
    "pip install ultralytics"
   ]
  },
  {
   "cell_type": "code",
   "execution_count": null,
   "metadata": {
    "id": "AJVRTF_rIzXD"
   },
   "outputs": [],
   "source": [
    "pip install clearml"
   ]
  },
  {
   "cell_type": "code",
   "execution_count": null,
   "metadata": {
    "executionInfo": {
     "elapsed": 7968,
     "status": "ok",
     "timestamp": 1697528825878,
     "user": {
      "displayName": "Слава Синяев",
      "userId": "16278562777677669944"
     },
     "user_tz": -180
    },
    "id": "FWMuyytQHBxl"
   },
   "outputs": [],
   "source": [
    "import zipfile\n",
    "import os\n",
    "from ultralytics import YOLO\n",
    "from clearml import Task, Logger"
   ]
  },
  {
   "cell_type": "code",
   "execution_count": null,
   "metadata": {
    "id": "UzMDRmsxHJ5b"
   },
   "outputs": [],
   "source": [
    "from google.colab import drive\n",
    "drive.mount('/content/drive')"
   ]
  },
  {
   "cell_type": "code",
   "execution_count": null,
   "metadata": {
    "colab": {
     "base_uri": "https://localhost:8080/"
    },
    "executionInfo": {
     "elapsed": 22176,
     "status": "ok",
     "timestamp": 1697528865289,
     "user": {
      "displayName": "Слава Синяев",
      "userId": "16278562777677669944"
     },
     "user_tz": -180
    },
    "id": "yY4iW3rlH01W",
    "outputId": "5ded5e98-74a7-4517-9808-6fe196e0cdb1"
   },
   "outputs": [],
   "source": [
    "zip_data = '/content/drive/MyDrive/CV_Course/Dataset_for_YOLO.zip'\n",
    "z = zipfile.ZipFile(zip_data, 'r')\n",
    "z.extractall()\n",
    "print(os.listdir())"
   ]
  },
  {
   "cell_type": "code",
   "execution_count": null,
   "metadata": {
    "id": "SFpCrFEemvmS"
   },
   "outputs": [],
   "source": [
    "!clearml-init"
   ]
  },
  {
   "cell_type": "code",
   "execution_count": null,
   "metadata": {
    "colab": {
     "base_uri": "https://localhost:8080/",
     "height": 1000
    },
    "executionInfo": {
     "elapsed": 4265563,
     "status": "ok",
     "timestamp": 1697537736612,
     "user": {
      "displayName": "Слава Синяев",
      "userId": "16278562777677669944"
     },
     "user_tz": -180
    },
    "id": "yKJNDPQoIQri",
    "outputId": "2d026b9d-7246-47a1-dd52-6952ab0891f6",
    "scrolled": true
   },
   "outputs": [],
   "source": [
    "task = Task.init(project_name=\"Variant0.1\", task_name=\"YOLOv8_training_0.2\")\n",
    "imgsz = 640\n",
    "epochs = 15\n",
    "batch = 50\n",
    "name = 'YOLOv8s'\n",
    "\n",
    "# Load a model\n",
    "model_variant = \"yolov8s\"\n",
    "# Log \"model_variant\" parameter to task\n",
    "task.set_parameter(\"model_variant\", model_variant)\n",
    "args = dict(data='/content/data.yaml',\n",
    "            epochs=epochs,\n",
    "            imgsz=imgsz,\n",
    "            batch=batch)\n",
    "# Load the YOLOv8 model\n",
    "model = YOLO(f'{model_variant}.pt')\n",
    "\n",
    "task.connect(args)\n",
    "\n",
    "# Train the model\n",
    "# If running remotely, the arguments may be overridden by ClearML if they were changed in the UI\n",
    "results = model.train(**args)"
   ]
  },
  {
   "cell_type": "code",
   "execution_count": null,
   "metadata": {
    "executionInfo": {
     "elapsed": 4595,
     "status": "ok",
     "timestamp": 1697537871082,
     "user": {
      "displayName": "Слава Синяев",
      "userId": "16278562777677669944"
     },
     "user_tz": -180
    },
    "id": "pXPFRvoo4Jtz"
   },
   "outputs": [],
   "source": [
    "task.close()"
   ]
  }
 ],
 "metadata": {
  "accelerator": "GPU",
  "colab": {
   "authorship_tag": "ABX9TyOrMXL5fMza9lZeIXYqps4l",
   "gpuType": "T4",
   "mount_file_id": "1iXZyi1jQmp9oB-CDeii0qEVA-PfR2Hk3",
   "provenance": []
  },
  "kernelspec": {
   "display_name": "Python 3 (ipykernel)",
   "language": "python",
   "name": "python3"
  },
  "language_info": {
   "codemirror_mode": {
    "name": "ipython",
    "version": 3
   },
   "file_extension": ".py",
   "mimetype": "text/x-python",
   "name": "python",
   "nbconvert_exporter": "python",
   "pygments_lexer": "ipython3",
   "version": "3.10.13"
  }
 },
 "nbformat": 4,
 "nbformat_minor": 1
}
