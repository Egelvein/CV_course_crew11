{
 "cells": [
  {
   "cell_type": "code",
   "execution_count": 1,
   "id": "1672dc4e-c624-45d0-9dd9-098eed1fd1be",
   "metadata": {},
   "outputs": [
    {
     "name": "stdout",
     "output_type": "stream",
     "text": [
      "/bin/bash: /home/energia/Sinyaev_VV/anaconda3/envs/yolov8/lib/libtinfo.so.6: no version information available (required by /bin/bash)\n",
      "\u001b[33mDEPRECATION: Loading egg at /home/energia/Sinyaev_VV/anaconda3/envs/yolov8/lib/python3.11/site-packages/gym_maze-0.4-py3.11.egg is deprecated. pip 23.3 will enforce this behaviour change. A possible replacement is to use pip for package installation..\u001b[0m\u001b[33m\n",
      "\u001b[0m\u001b[33mDEPRECATION: Loading egg at /home/energia/Sinyaev_VV/anaconda3/envs/yolov8/lib/python3.11/site-packages/pygame-2.5.2-py3.11-linux-x86_64.egg is deprecated. pip 23.3 will enforce this behaviour change. A possible replacement is to use pip for package installation..\u001b[0m\u001b[33m\n",
      "\u001b[0mCollecting git+https://github.com/allegroai/clearml\n",
      "  Cloning https://github.com/allegroai/clearml to /tmp/pip-req-build-46sedycc\n",
      "  Running command git clone --filter=blob:none --quiet https://github.com/allegroai/clearml /tmp/pip-req-build-46sedycc\n",
      "  Resolved https://github.com/allegroai/clearml to commit 8a834af777d7c4d1541573158d627c9d39f5c7c5\n",
      "  Preparing metadata (setup.py) ... \u001b[?25ldone\n",
      "\u001b[?25hRequirement already satisfied: attrs>=18.0 in /home/energia/Sinyaev_VV/anaconda3/envs/yolov8/lib/python3.11/site-packages (from clearml==1.13.1) (22.2.0)\n",
      "Requirement already satisfied: furl>=2.0.0 in /home/energia/Sinyaev_VV/anaconda3/envs/yolov8/lib/python3.11/site-packages (from clearml==1.13.1) (2.1.3)\n",
      "Requirement already satisfied: jsonschema>=2.6.0 in /home/energia/Sinyaev_VV/anaconda3/envs/yolov8/lib/python3.11/site-packages (from clearml==1.13.1) (4.19.1)\n",
      "Requirement already satisfied: numpy>=1.10 in /home/energia/Sinyaev_VV/anaconda3/envs/yolov8/lib/python3.11/site-packages (from clearml==1.13.1) (1.26.0)\n",
      "Requirement already satisfied: pathlib2>=2.3.0 in /home/energia/Sinyaev_VV/anaconda3/envs/yolov8/lib/python3.11/site-packages (from clearml==1.13.1) (2.3.7.post1)\n",
      "Requirement already satisfied: Pillow>=4.1.1 in /home/energia/Sinyaev_VV/anaconda3/envs/yolov8/lib/python3.11/site-packages (from clearml==1.13.1) (9.4.0)\n",
      "Requirement already satisfied: psutil>=3.4.2 in /home/energia/Sinyaev_VV/anaconda3/envs/yolov8/lib/python3.11/site-packages (from clearml==1.13.1) (5.9.0)\n",
      "Requirement already satisfied: pyparsing>=2.0.3 in /home/energia/Sinyaev_VV/anaconda3/envs/yolov8/lib/python3.11/site-packages (from clearml==1.13.1) (3.0.9)\n",
      "Requirement already satisfied: python-dateutil>=2.6.1 in /home/energia/Sinyaev_VV/anaconda3/envs/yolov8/lib/python3.11/site-packages (from clearml==1.13.1) (2.8.2)\n",
      "Requirement already satisfied: PyYAML>=3.12 in /home/energia/Sinyaev_VV/anaconda3/envs/yolov8/lib/python3.11/site-packages (from clearml==1.13.1) (6.0)\n",
      "Requirement already satisfied: requests>=2.20.0 in /home/energia/Sinyaev_VV/anaconda3/envs/yolov8/lib/python3.11/site-packages (from clearml==1.13.1) (2.31.0)\n",
      "Requirement already satisfied: six>=1.13.0 in /home/energia/Sinyaev_VV/anaconda3/envs/yolov8/lib/python3.11/site-packages (from clearml==1.13.1) (1.16.0)\n",
      "Requirement already satisfied: urllib3>=1.21.1 in /home/energia/Sinyaev_VV/anaconda3/envs/yolov8/lib/python3.11/site-packages (from clearml==1.13.1) (1.26.15)\n",
      "Requirement already satisfied: pyjwt<2.9.0,>=2.4.0 in /home/energia/Sinyaev_VV/anaconda3/envs/yolov8/lib/python3.11/site-packages (from clearml==1.13.1) (2.4.0)\n",
      "Requirement already satisfied: orderedmultidict>=1.0.1 in /home/energia/Sinyaev_VV/anaconda3/envs/yolov8/lib/python3.11/site-packages (from furl>=2.0.0->clearml==1.13.1) (1.0.1)\n",
      "Requirement already satisfied: jsonschema-specifications>=2023.03.6 in /home/energia/Sinyaev_VV/anaconda3/envs/yolov8/lib/python3.11/site-packages (from jsonschema>=2.6.0->clearml==1.13.1) (2023.7.1)\n",
      "Requirement already satisfied: referencing>=0.28.4 in /home/energia/Sinyaev_VV/anaconda3/envs/yolov8/lib/python3.11/site-packages (from jsonschema>=2.6.0->clearml==1.13.1) (0.30.2)\n",
      "Requirement already satisfied: rpds-py>=0.7.1 in /home/energia/Sinyaev_VV/anaconda3/envs/yolov8/lib/python3.11/site-packages (from jsonschema>=2.6.0->clearml==1.13.1) (0.10.3)\n",
      "Requirement already satisfied: charset-normalizer<4,>=2 in /home/energia/Sinyaev_VV/anaconda3/envs/yolov8/lib/python3.11/site-packages (from requests>=2.20.0->clearml==1.13.1) (2.0.4)\n",
      "Requirement already satisfied: idna<4,>=2.5 in /home/energia/Sinyaev_VV/anaconda3/envs/yolov8/lib/python3.11/site-packages (from requests>=2.20.0->clearml==1.13.1) (3.4)\n",
      "Requirement already satisfied: certifi>=2017.4.17 in /home/energia/Sinyaev_VV/anaconda3/envs/yolov8/lib/python3.11/site-packages (from requests>=2.20.0->clearml==1.13.1) (2023.7.22)\n",
      "/bin/bash: /home/energia/Sinyaev_VV/anaconda3/envs/yolov8/lib/libtinfo.so.6: no version information available (required by /bin/bash)\n",
      "\u001b[33mDEPRECATION: Loading egg at /home/energia/Sinyaev_VV/anaconda3/envs/yolov8/lib/python3.11/site-packages/gym_maze-0.4-py3.11.egg is deprecated. pip 23.3 will enforce this behaviour change. A possible replacement is to use pip for package installation..\u001b[0m\u001b[33m\n",
      "\u001b[0m\u001b[33mDEPRECATION: Loading egg at /home/energia/Sinyaev_VV/anaconda3/envs/yolov8/lib/python3.11/site-packages/pygame-2.5.2-py3.11-linux-x86_64.egg is deprecated. pip 23.3 will enforce this behaviour change. A possible replacement is to use pip for package installation..\u001b[0m\u001b[33m\n",
      "\u001b[0mRequirement already satisfied: clearml-agent in /home/energia/Sinyaev_VV/anaconda3/envs/yolov8/lib/python3.11/site-packages (1.6.1)\n",
      "Requirement already satisfied: attrs<23.0.0,>=18.0 in /home/energia/Sinyaev_VV/anaconda3/envs/yolov8/lib/python3.11/site-packages (from clearml-agent) (22.2.0)\n",
      "Requirement already satisfied: furl<2.2.0,>=2.0.0 in /home/energia/Sinyaev_VV/anaconda3/envs/yolov8/lib/python3.11/site-packages (from clearml-agent) (2.1.3)\n",
      "Requirement already satisfied: jsonschema<5.0.0,>=2.6.0 in /home/energia/Sinyaev_VV/anaconda3/envs/yolov8/lib/python3.11/site-packages (from clearml-agent) (4.19.1)\n",
      "Requirement already satisfied: pathlib2<2.4.0,>=2.3.0 in /home/energia/Sinyaev_VV/anaconda3/envs/yolov8/lib/python3.11/site-packages (from clearml-agent) (2.3.7.post1)\n",
      "Requirement already satisfied: psutil<5.10.0,>=3.4.2 in /home/energia/Sinyaev_VV/anaconda3/envs/yolov8/lib/python3.11/site-packages (from clearml-agent) (5.9.0)\n",
      "Requirement already satisfied: pyparsing<3.1.0,>=2.0.3 in /home/energia/Sinyaev_VV/anaconda3/envs/yolov8/lib/python3.11/site-packages (from clearml-agent) (3.0.9)\n",
      "Requirement already satisfied: python-dateutil<2.9.0,>=2.4.2 in /home/energia/Sinyaev_VV/anaconda3/envs/yolov8/lib/python3.11/site-packages (from clearml-agent) (2.8.2)\n",
      "Requirement already satisfied: pyjwt<2.7.0,>=2.4.0 in /home/energia/Sinyaev_VV/anaconda3/envs/yolov8/lib/python3.11/site-packages (from clearml-agent) (2.4.0)\n",
      "Requirement already satisfied: PyYAML<6.1,>=3.12 in /home/energia/Sinyaev_VV/anaconda3/envs/yolov8/lib/python3.11/site-packages (from clearml-agent) (6.0)\n",
      "Requirement already satisfied: requests<=2.31.0,>=2.20.0 in /home/energia/Sinyaev_VV/anaconda3/envs/yolov8/lib/python3.11/site-packages (from clearml-agent) (2.31.0)\n",
      "Requirement already satisfied: six<1.17.0,>=1.13.0 in /home/energia/Sinyaev_VV/anaconda3/envs/yolov8/lib/python3.11/site-packages (from clearml-agent) (1.16.0)\n",
      "Requirement already satisfied: urllib3<1.27.0,>=1.21.1 in /home/energia/Sinyaev_VV/anaconda3/envs/yolov8/lib/python3.11/site-packages (from clearml-agent) (1.26.15)\n",
      "Requirement already satisfied: virtualenv<21,>=16 in /home/energia/Sinyaev_VV/anaconda3/envs/yolov8/lib/python3.11/site-packages (from clearml-agent) (20.24.5)\n",
      "Requirement already satisfied: orderedmultidict>=1.0.1 in /home/energia/Sinyaev_VV/anaconda3/envs/yolov8/lib/python3.11/site-packages (from furl<2.2.0,>=2.0.0->clearml-agent) (1.0.1)\n",
      "Requirement already satisfied: jsonschema-specifications>=2023.03.6 in /home/energia/Sinyaev_VV/anaconda3/envs/yolov8/lib/python3.11/site-packages (from jsonschema<5.0.0,>=2.6.0->clearml-agent) (2023.7.1)\n",
      "Requirement already satisfied: referencing>=0.28.4 in /home/energia/Sinyaev_VV/anaconda3/envs/yolov8/lib/python3.11/site-packages (from jsonschema<5.0.0,>=2.6.0->clearml-agent) (0.30.2)\n",
      "Requirement already satisfied: rpds-py>=0.7.1 in /home/energia/Sinyaev_VV/anaconda3/envs/yolov8/lib/python3.11/site-packages (from jsonschema<5.0.0,>=2.6.0->clearml-agent) (0.10.3)\n",
      "Requirement already satisfied: charset-normalizer<4,>=2 in /home/energia/Sinyaev_VV/anaconda3/envs/yolov8/lib/python3.11/site-packages (from requests<=2.31.0,>=2.20.0->clearml-agent) (2.0.4)\n",
      "Requirement already satisfied: idna<4,>=2.5 in /home/energia/Sinyaev_VV/anaconda3/envs/yolov8/lib/python3.11/site-packages (from requests<=2.31.0,>=2.20.0->clearml-agent) (3.4)\n",
      "Requirement already satisfied: certifi>=2017.4.17 in /home/energia/Sinyaev_VV/anaconda3/envs/yolov8/lib/python3.11/site-packages (from requests<=2.31.0,>=2.20.0->clearml-agent) (2023.7.22)\n",
      "Requirement already satisfied: distlib<1,>=0.3.7 in /home/energia/Sinyaev_VV/anaconda3/envs/yolov8/lib/python3.11/site-packages (from virtualenv<21,>=16->clearml-agent) (0.3.7)\n",
      "Requirement already satisfied: filelock<4,>=3.12.2 in /home/energia/Sinyaev_VV/anaconda3/envs/yolov8/lib/python3.11/site-packages (from virtualenv<21,>=16->clearml-agent) (3.12.4)\n",
      "Requirement already satisfied: platformdirs<4,>=3.9.1 in /home/energia/Sinyaev_VV/anaconda3/envs/yolov8/lib/python3.11/site-packages (from virtualenv<21,>=16->clearml-agent) (3.10.0)\n"
     ]
    }
   ],
   "source": [
    "!pip install git+https://github.com/allegroai/clearml\n",
    "!pip install clearml-agent"
   ]
  },
  {
   "cell_type": "code",
   "execution_count": 2,
   "id": "ec21cb69-313a-43ad-be9f-9a601f3b5d2d",
   "metadata": {},
   "outputs": [
    {
     "name": "stdout",
     "output_type": "stream",
     "text": [
      "/bin/bash: /home/energia/Sinyaev_VV/anaconda3/envs/yolov8/lib/libtinfo.so.6: no version information available (required by /bin/bash)\n"
     ]
    }
   ],
   "source": [
    "! export MPLBACKEND=TkAg"
   ]
  },
  {
   "cell_type": "code",
   "execution_count": 3,
   "id": "e7561d9f-b310-4b47-b427-210af5399174",
   "metadata": {},
   "outputs": [],
   "source": [
    "CREDENTIALS = {\n",
    "    \"web_server\": \"https://app.clear.ml\",\n",
    "    \"api_server\": \"https://api.clear.ml\",\n",
    "    \"files_server\": \"https://files.clear.ml\",\n",
    "    \"credentials\": {\n",
    "        \"access_key\" : \"OUS3EKHW7UAHY2VHCNC8\",\n",
    "        \"secret_key\"  : \"o9XR4HR59j6pZZ7XSshWBRYE0jsqhDXMnjzisleD4orabsduko\",\n",
    "    }\n",
    "}"
   ]
  },
  {
   "cell_type": "code",
   "execution_count": 4,
   "id": "37ea2e48-9b2c-4fc3-a333-1744c4a62e61",
   "metadata": {},
   "outputs": [],
   "source": [
    "from clearml import Task\n",
    "\n",
    "Task.set_credentials(\n",
    "     api_host=CREDENTIALS[\"api_server\"],\n",
    "     web_host=CREDENTIALS[\"web_server\"],\n",
    "     files_host=CREDENTIALS[\"files_server\"],\n",
    "     key=CREDENTIALS[\"credentials\"][\"access_key\"],\n",
    "     secret=CREDENTIALS[\"credentials\"][\"secret_key\"]\n",
    ")"
   ]
  },
  {
   "cell_type": "code",
   "execution_count": null,
   "id": "b6ec31c0-43f2-4e70-a13c-53923f64df04",
   "metadata": {},
   "outputs": [
    {
     "name": "stdout",
     "output_type": "stream",
     "text": [
      "/bin/bash: /home/energia/Sinyaev_VV/anaconda3/envs/yolov8/lib/libtinfo.so.6: no version information available (required by /bin/bash)\n",
      "Using environment access key CLEARML_API_ACCESS_KEY=OUS3EKHW7UAHY2VHCNC8\n",
      "Using environment secret key CLEARML_API_SECRET_KEY=********\n",
      "Current configuration (clearml_agent v1.6.1, location: None):\n",
      "----------------------\n",
      "api.version = 1.5\n",
      "api.verify_certificate = true\n",
      "api.default_version = 1.5\n",
      "api.http.max_req_size = 15728640\n",
      "api.http.retries.total = 240\n",
      "api.http.retries.connect = 240\n",
      "api.http.retries.read = 240\n",
      "api.http.retries.redirect = 240\n",
      "api.http.retries.status = 240\n",
      "api.http.retries.backoff_factor = 1.0\n",
      "api.http.retries.backoff_max = 120.0\n",
      "api.http.wait_on_maintenance_forever = true\n",
      "api.http.pool_maxsize = 512\n",
      "api.http.pool_connections = 512\n",
      "api.api_server = https://api.clear.ml\n",
      "api.files_server = https://files.clear.ml\n",
      "api.web_server = https://app.clear.ml\n",
      "api.credentials.access_key = OUS3EKHW7UAHY2VHCNC8\n",
      "agent.worker_id = \n",
      "agent.worker_name = debian\n",
      "agent.force_git_ssh_protocol = false\n",
      "agent.python_binary = \n",
      "agent.package_manager.type = pip\n",
      "agent.package_manager.pip_version.0 = <20.2 ; python_version < '3.10'\n",
      "agent.package_manager.pip_version.1 = <22.3 ; python_version >\\= '3.10'\n",
      "agent.package_manager.system_site_packages = false\n",
      "agent.package_manager.force_upgrade = false\n",
      "agent.package_manager.conda_channels.0 = pytorch\n",
      "agent.package_manager.conda_channels.1 = conda-forge\n",
      "agent.package_manager.conda_channels.2 = defaults\n",
      "agent.package_manager.priority_optional_packages.0 = pygobject\n",
      "agent.package_manager.torch_nightly = false\n",
      "agent.package_manager.poetry_files_from_repo_working_dir = false\n",
      "agent.venvs_dir = /home/energia/.clearml/venvs-builds\n",
      "agent.venvs_cache.max_entries = 10\n",
      "agent.venvs_cache.free_space_threshold_gb = 2.0\n",
      "agent.venvs_cache.path = ~/.clearml/venvs-cache\n",
      "agent.vcs_cache.enabled = true\n",
      "agent.vcs_cache.path = /home/energia/.clearml/vcs-cache\n",
      "agent.venv_update.enabled = false\n",
      "agent.pip_download_cache.enabled = true\n",
      "agent.pip_download_cache.path = /home/energia/.clearml/pip-download-cache\n",
      "agent.translate_ssh = true\n",
      "agent.reload_config = false\n",
      "agent.docker_pip_cache = /home/energia/.clearml/pip-cache\n",
      "agent.docker_apt_cache = /home/energia/.clearml/apt-cache\n",
      "agent.docker_force_pull = false\n",
      "agent.default_docker.image = nvidia/cuda:11.0.3-cudnn8-runtime-ubuntu20.04\n",
      "agent.enable_task_env = false\n",
      "agent.hide_docker_command_env_vars.enabled = true\n",
      "agent.hide_docker_command_env_vars.parse_embedded_urls = true\n",
      "agent.abort_callback_max_timeout = 1800\n",
      "agent.docker_internal_mounts.sdk_cache = /clearml_agent_cache\n",
      "agent.docker_internal_mounts.apt_cache = /var/cache/apt/archives\n",
      "agent.docker_internal_mounts.ssh_folder = ~/.ssh\n",
      "agent.docker_internal_mounts.ssh_ro_folder = /.ssh\n",
      "agent.docker_internal_mounts.pip_cache = /root/.cache/pip\n",
      "agent.docker_internal_mounts.poetry_cache = /root/.cache/pypoetry\n",
      "agent.docker_internal_mounts.vcs_cache = /root/.clearml/vcs-cache\n",
      "agent.docker_internal_mounts.venv_build = ~/.clearml/venvs-builds\n",
      "agent.docker_internal_mounts.pip_download = /root/.clearml/pip-download-cache\n",
      "agent.apply_environment = true\n",
      "agent.apply_files = true\n",
      "agent.custom_build_script = \n",
      "agent.disable_task_docker_override = false\n",
      "agent.default_python = 3.11\n",
      "agent.cuda_version = 122\n",
      "agent.cudnn_version = 0\n",
      "sdk.storage.cache.default_base_dir = ~/.clearml/cache\n",
      "sdk.storage.cache.size.min_free_bytes = 10GB\n",
      "sdk.storage.direct_access.0.url = file://*\n",
      "sdk.metrics.file_history_size = 100\n",
      "sdk.metrics.matplotlib_untitled_history_size = 100\n",
      "sdk.metrics.images.format = JPEG\n",
      "sdk.metrics.images.quality = 87\n",
      "sdk.metrics.images.subsampling = 0\n",
      "sdk.metrics.tensorboard_single_series_per_graph = false\n",
      "sdk.network.metrics.file_upload_threads = 4\n",
      "sdk.network.metrics.file_upload_starvation_warning_sec = 120\n",
      "sdk.network.iteration.max_retries_on_server_error = 5\n",
      "sdk.network.iteration.retry_backoff_factor_sec = 10\n",
      "sdk.aws.s3.key = \n",
      "sdk.aws.s3.region = \n",
      "sdk.aws.boto3.pool_connections = 512\n",
      "sdk.aws.boto3.max_multipart_concurrency = 16\n",
      "sdk.log.null_log_propagate = false\n",
      "sdk.log.task_log_buffer_capacity = 66\n",
      "sdk.log.disable_urllib3_info = true\n",
      "sdk.development.task_reuse_time_window_in_hours = 72.0\n",
      "sdk.development.vcs_repo_detect_async = true\n",
      "sdk.development.store_uncommitted_code_diff = true\n",
      "sdk.development.support_stopping = true\n",
      "sdk.development.default_output_uri = \n",
      "sdk.development.force_analyze_entire_repo = false\n",
      "sdk.development.suppress_update_message = false\n",
      "sdk.development.detect_with_pip_freeze = false\n",
      "sdk.development.worker.report_period_sec = 2\n",
      "sdk.development.worker.ping_period_sec = 30\n",
      "sdk.development.worker.log_stdout = true\n",
      "sdk.development.worker.report_global_mem_used = false\n",
      "\n",
      "Worker \"debian:0\" - Listening to queues:\n",
      "+----------------------------------+---------+-------+\n",
      "| id                               | name    | tags  |\n",
      "+----------------------------------+---------+-------+\n",
      "| 68c47d167d2b4a559c47a42682471b91 | default |       |\n",
      "+----------------------------------+---------+-------+\n",
      "\n",
      "Running CLEARML-AGENT daemon in background mode, writing stdout/stderr to /tmp/.clearml_agent_daemon_out2celfxwf.txt\n"
     ]
    }
   ],
   "source": [
    "!clearml-agent daemon --queue default"
   ]
  },
  {
   "cell_type": "code",
   "execution_count": null,
   "id": "68338aa1-7231-4acf-a665-86c52e45108d",
   "metadata": {},
   "outputs": [],
   "source": [
    "api {\n",
    "  # Crew_11_CV\n",
    "  web_server: https://app.clear.ml\n",
    "  api_server: https://api.clear.ml\n",
    "  files_server: https://files.clear.ml\n",
    "  credentials {\n",
    "    \"access_key\" = \"09BXBDHZZA6FL5MZ8OEB\"\n",
    "    \"secret_key\" = \"4ox5cAu6Tg9dTQeHCskwof4ZVMo4KX8fhkzeAZfTe5O86PLCvN\"\n",
    "  }\n",
    "}"
   ]
  },
  {
   "cell_type": "code",
   "execution_count": 12,
   "id": "40527f3e-cf79-4265-80b5-e3610511615a",
   "metadata": {},
   "outputs": [
    {
     "name": "stdout",
     "output_type": "stream",
     "text": [
      "/bin/bash: /home/energia/Sinyaev_VV/anaconda3/envs/yolov8/lib/libtinfo.so.6: no version information available (required by /bin/bash)\n",
      "ClearML SDK setup process\n",
      "Configuration file already exists: /home/energia/clearml.conf\n",
      "Leaving setup, feel free to edit the configuration file.\n"
     ]
    }
   ],
   "source": [
    "!clearml-init"
   ]
  },
  {
   "cell_type": "code",
   "execution_count": 22,
   "id": "dcd9bc14-39b5-46c9-91f5-d5795f038205",
   "metadata": {},
   "outputs": [
    {
     "ename": "AttributeError",
     "evalue": "'YOLO' object has no attribute 'MODE'. See valid attributes below.\n\n    YOLO (You Only Look Once) object detection model.\n\n    Args:\n        model (str, Path): Path to the model file to load or create.\n        task (Any, optional): Task type for the YOLO model. Defaults to None.\n\n    Attributes:\n        predictor (Any): The predictor object.\n        model (Any): The model object.\n        trainer (Any): The trainer object.\n        task (str): The type of model task.\n        ckpt (Any): The checkpoint object if the model loaded from *.pt file.\n        cfg (str): The model configuration if loaded from *.yaml file.\n        ckpt_path (str): The checkpoint file path.\n        overrides (dict): Overrides for the trainer object.\n        metrics (Any): The data for metrics.\n\n    Methods:\n        __call__(source=None, stream=False, **kwargs):\n            Alias for the predict method.\n        _new(cfg:str, verbose:bool=True) -> None:\n            Initializes a new model and infers the task type from the model definitions.\n        _load(weights:str, task:str='') -> None:\n            Initializes a new model and infers the task type from the model head.\n        _check_is_pytorch_model() -> None:\n            Raises TypeError if the model is not a PyTorch model.\n        reset() -> None:\n            Resets the model modules.\n        info(verbose:bool=False) -> None:\n            Logs the model info.\n        fuse() -> None:\n            Fuses the model for faster inference.\n        predict(source=None, stream=False, **kwargs) -> List[ultralytics.yolo.engine.results.Results]:\n            Performs prediction using the YOLO model.\n\n    Returns:\n        list(ultralytics.yolo.engine.results.Results): The prediction results.\n    ",
     "output_type": "error",
     "traceback": [
      "\u001b[0;31m---------------------------------------------------------------------------\u001b[0m",
      "\u001b[0;31mAttributeError\u001b[0m                            Traceback (most recent call last)",
      "Cell \u001b[0;32mIn[22], line 7\u001b[0m\n\u001b[1;32m      4\u001b[0m model \u001b[38;5;241m=\u001b[39m YOLO()\n\u001b[1;32m      6\u001b[0m \u001b[38;5;66;03m# Run MODE mode using the custom arguments ARGS\u001b[39;00m\n\u001b[0;32m----> 7\u001b[0m model\u001b[38;5;241m.\u001b[39mMODE(name\u001b[38;5;241m=\u001b[39m\u001b[38;5;124m\"\u001b[39m\u001b[38;5;124mYOLOv8_training\u001b[39m\u001b[38;5;124m\"\u001b[39m, project\u001b[38;5;241m=\u001b[39m\u001b[38;5;124m\"\u001b[39m\u001b[38;5;124mVariant0.1\u001b[39m\u001b[38;5;124m\"\u001b[39m)\n",
      "File \u001b[0;32m~/Sinyaev_VV/anaconda3/envs/yolov8/lib/python3.11/site-packages/ultralytics/yolo/engine/model.py:116\u001b[0m, in \u001b[0;36mYOLO.__getattr__\u001b[0;34m(self, attr)\u001b[0m\n\u001b[1;32m    114\u001b[0m \u001b[38;5;250m\u001b[39m\u001b[38;5;124;03m\"\"\"Raises error if object has no requested attribute.\"\"\"\u001b[39;00m\n\u001b[1;32m    115\u001b[0m name \u001b[38;5;241m=\u001b[39m \u001b[38;5;28mself\u001b[39m\u001b[38;5;241m.\u001b[39m\u001b[38;5;18m__class__\u001b[39m\u001b[38;5;241m.\u001b[39m\u001b[38;5;18m__name__\u001b[39m\n\u001b[0;32m--> 116\u001b[0m \u001b[38;5;28;01mraise\u001b[39;00m \u001b[38;5;167;01mAttributeError\u001b[39;00m(\u001b[38;5;124mf\u001b[39m\u001b[38;5;124m\"\u001b[39m\u001b[38;5;124m'\u001b[39m\u001b[38;5;132;01m{\u001b[39;00mname\u001b[38;5;132;01m}\u001b[39;00m\u001b[38;5;124m'\u001b[39m\u001b[38;5;124m object has no attribute \u001b[39m\u001b[38;5;124m'\u001b[39m\u001b[38;5;132;01m{\u001b[39;00mattr\u001b[38;5;132;01m}\u001b[39;00m\u001b[38;5;124m'\u001b[39m\u001b[38;5;124m. See valid attributes below.\u001b[39m\u001b[38;5;130;01m\\n\u001b[39;00m\u001b[38;5;132;01m{\u001b[39;00m\u001b[38;5;28mself\u001b[39m\u001b[38;5;241m.\u001b[39m\u001b[38;5;18m__doc__\u001b[39m\u001b[38;5;132;01m}\u001b[39;00m\u001b[38;5;124m\"\u001b[39m)\n",
      "\u001b[0;31mAttributeError\u001b[0m: 'YOLO' object has no attribute 'MODE'. See valid attributes below.\n\n    YOLO (You Only Look Once) object detection model.\n\n    Args:\n        model (str, Path): Path to the model file to load or create.\n        task (Any, optional): Task type for the YOLO model. Defaults to None.\n\n    Attributes:\n        predictor (Any): The predictor object.\n        model (Any): The model object.\n        trainer (Any): The trainer object.\n        task (str): The type of model task.\n        ckpt (Any): The checkpoint object if the model loaded from *.pt file.\n        cfg (str): The model configuration if loaded from *.yaml file.\n        ckpt_path (str): The checkpoint file path.\n        overrides (dict): Overrides for the trainer object.\n        metrics (Any): The data for metrics.\n\n    Methods:\n        __call__(source=None, stream=False, **kwargs):\n            Alias for the predict method.\n        _new(cfg:str, verbose:bool=True) -> None:\n            Initializes a new model and infers the task type from the model definitions.\n        _load(weights:str, task:str='') -> None:\n            Initializes a new model and infers the task type from the model head.\n        _check_is_pytorch_model() -> None:\n            Raises TypeError if the model is not a PyTorch model.\n        reset() -> None:\n            Resets the model modules.\n        info(verbose:bool=False) -> None:\n            Logs the model info.\n        fuse() -> None:\n            Fuses the model for faster inference.\n        predict(source=None, stream=False, **kwargs) -> List[ultralytics.yolo.engine.results.Results]:\n            Performs prediction using the YOLO model.\n\n    Returns:\n        list(ultralytics.yolo.engine.results.Results): The prediction results.\n    "
     ]
    }
   ],
   "source": [
    "from ultralytics import YOLO\n",
    "\n",
    "# Initialize YOLO object, load/create YOLOv8 model\n",
    "model = YOLO()\n",
    "\n",
    "# Run MODE mode using the custom arguments ARGS\n",
    "model.MODE(name=\"YOLOv8_training\", project=\"Variant0.1\")"
   ]
  },
  {
   "cell_type": "code",
   "execution_count": 23,
   "id": "a155cee3-cc1e-492f-bc98-8bd88ee33f5c",
   "metadata": {},
   "outputs": [
    {
     "ename": "MissingConfigError",
     "evalue": "It seems ClearML is not configured on this machine!\nTo get started with ClearML, setup your own 'clearml-server' or create a free account at https://app.clear.ml\nSetup instructions can be found here: https://clear.ml/docs",
     "output_type": "error",
     "traceback": [
      "\u001b[0;31m---------------------------------------------------------------------------\u001b[0m",
      "\u001b[0;31mMissingConfigError\u001b[0m                        Traceback (most recent call last)",
      "Cell \u001b[0;32mIn[23], line 5\u001b[0m\n\u001b[1;32m      1\u001b[0m \u001b[38;5;66;03m#!clearml-init\u001b[39;00m\n\u001b[1;32m      2\u001b[0m \u001b[38;5;66;03m#!pip install clearml>=1.2.0\u001b[39;00m\n\u001b[0;32m----> 5\u001b[0m task \u001b[38;5;241m=\u001b[39m Task\u001b[38;5;241m.\u001b[39minit(project_name\u001b[38;5;241m=\u001b[39m\u001b[38;5;124m\"\u001b[39m\u001b[38;5;124mVariant0.1\u001b[39m\u001b[38;5;124m\"\u001b[39m, task_name\u001b[38;5;241m=\u001b[39m\u001b[38;5;124m\"\u001b[39m\u001b[38;5;124mYOLOv8_training\u001b[39m\u001b[38;5;124m\"\u001b[39m)\n\u001b[1;32m      7\u001b[0m imgsz \u001b[38;5;241m=\u001b[39m \u001b[38;5;241m640\u001b[39m\n\u001b[1;32m      8\u001b[0m epochs \u001b[38;5;241m=\u001b[39m \u001b[38;5;241m20\u001b[39m\n",
      "File \u001b[0;32m~/Sinyaev_VV/anaconda3/envs/yolov8/lib/python3.11/site-packages/clearml/task.py:563\u001b[0m, in \u001b[0;36mTask.init\u001b[0;34m(cls, project_name, task_name, task_type, tags, reuse_last_task_id, continue_last_task, output_uri, auto_connect_arg_parser, auto_connect_frameworks, auto_resource_monitoring, auto_connect_streams, deferred_init)\u001b[0m\n\u001b[1;32m    561\u001b[0m \u001b[38;5;28;01melif\u001b[39;00m \u001b[38;5;129;01mnot\u001b[39;00m is_sub_process_task_id:\n\u001b[1;32m    562\u001b[0m     \u001b[38;5;28;01mtry\u001b[39;00m:\n\u001b[0;32m--> 563\u001b[0m         task \u001b[38;5;241m=\u001b[39m \u001b[38;5;28mcls\u001b[39m\u001b[38;5;241m.\u001b[39m_create_dev_task(\n\u001b[1;32m    564\u001b[0m             default_project_name\u001b[38;5;241m=\u001b[39mproject_name,\n\u001b[1;32m    565\u001b[0m             default_task_name\u001b[38;5;241m=\u001b[39mtask_name,\n\u001b[1;32m    566\u001b[0m             default_task_type\u001b[38;5;241m=\u001b[39mtask_type,\n\u001b[1;32m    567\u001b[0m             tags\u001b[38;5;241m=\u001b[39mtags,\n\u001b[1;32m    568\u001b[0m             reuse_last_task_id\u001b[38;5;241m=\u001b[39mreuse_last_task_id,\n\u001b[1;32m    569\u001b[0m             continue_last_task\u001b[38;5;241m=\u001b[39mcontinue_last_task,\n\u001b[1;32m    570\u001b[0m             detect_repo\u001b[38;5;241m=\u001b[39m\u001b[38;5;28;01mFalse\u001b[39;00m \u001b[38;5;28;01mif\u001b[39;00m (\n\u001b[1;32m    571\u001b[0m                     \u001b[38;5;28misinstance\u001b[39m(auto_connect_frameworks, \u001b[38;5;28mdict\u001b[39m) \u001b[38;5;129;01mand\u001b[39;00m\n\u001b[1;32m    572\u001b[0m                     \u001b[38;5;129;01mnot\u001b[39;00m auto_connect_frameworks\u001b[38;5;241m.\u001b[39mget(\u001b[38;5;124m'\u001b[39m\u001b[38;5;124mdetect_repository\u001b[39m\u001b[38;5;124m'\u001b[39m, \u001b[38;5;28;01mTrue\u001b[39;00m)) \u001b[38;5;28;01melse\u001b[39;00m \u001b[38;5;28;01mTrue\u001b[39;00m,\n\u001b[1;32m    573\u001b[0m             auto_connect_streams\u001b[38;5;241m=\u001b[39mauto_connect_streams,\n\u001b[1;32m    574\u001b[0m         )\n\u001b[1;32m    575\u001b[0m     \u001b[38;5;28;01mexcept\u001b[39;00m MissingConfigError \u001b[38;5;28;01mas\u001b[39;00m e:\n\u001b[1;32m    576\u001b[0m         \u001b[38;5;28;01mif\u001b[39;00m \u001b[38;5;129;01mnot\u001b[39;00m ENV_IGNORE_MISSING_CONFIG\u001b[38;5;241m.\u001b[39mget():\n",
      "File \u001b[0;32m~/Sinyaev_VV/anaconda3/envs/yolov8/lib/python3.11/site-packages/clearml/task.py:3527\u001b[0m, in \u001b[0;36mTask._create_dev_task\u001b[0;34m(cls, default_project_name, default_task_name, default_task_type, tags, reuse_last_task_id, continue_last_task, detect_repo, auto_connect_streams)\u001b[0m\n\u001b[1;32m   3525\u001b[0m \u001b[38;5;66;03m# create a new task\u001b[39;00m\n\u001b[1;32m   3526\u001b[0m \u001b[38;5;28;01mif\u001b[39;00m \u001b[38;5;129;01mnot\u001b[39;00m default_task_id:\n\u001b[0;32m-> 3527\u001b[0m     task \u001b[38;5;241m=\u001b[39m \u001b[38;5;28mcls\u001b[39m(\n\u001b[1;32m   3528\u001b[0m         private\u001b[38;5;241m=\u001b[39m\u001b[38;5;28mcls\u001b[39m\u001b[38;5;241m.\u001b[39m__create_protection,\n\u001b[1;32m   3529\u001b[0m         project_name\u001b[38;5;241m=\u001b[39mdefault_project_name,\n\u001b[1;32m   3530\u001b[0m         task_name\u001b[38;5;241m=\u001b[39mdefault_task_name,\n\u001b[1;32m   3531\u001b[0m         task_type\u001b[38;5;241m=\u001b[39mdefault_task_type,\n\u001b[1;32m   3532\u001b[0m         log_to_backend\u001b[38;5;241m=\u001b[39m\u001b[38;5;28;01mTrue\u001b[39;00m,\n\u001b[1;32m   3533\u001b[0m     )\n\u001b[1;32m   3534\u001b[0m     \u001b[38;5;66;03m# no need to reload yet, we clear this before the end of the function\u001b[39;00m\n\u001b[1;32m   3535\u001b[0m     task\u001b[38;5;241m.\u001b[39m_reload_skip_flag \u001b[38;5;241m=\u001b[39m \u001b[38;5;28;01mTrue\u001b[39;00m\n",
      "File \u001b[0;32m~/Sinyaev_VV/anaconda3/envs/yolov8/lib/python3.11/site-packages/clearml/task.py:206\u001b[0m, in \u001b[0;36mTask.__init__\u001b[0;34m(self, private, **kwargs)\u001b[0m\n\u001b[1;32m    202\u001b[0m     \u001b[38;5;28;01mraise\u001b[39;00m UsageError(\n\u001b[1;32m    203\u001b[0m         \u001b[38;5;124m'\u001b[39m\u001b[38;5;124mTask object cannot be instantiated externally, use Task.current_task() or Task.get_task(...)\u001b[39m\u001b[38;5;124m'\u001b[39m)\n\u001b[1;32m    204\u001b[0m \u001b[38;5;28mself\u001b[39m\u001b[38;5;241m.\u001b[39m_repo_detect_lock \u001b[38;5;241m=\u001b[39m threading\u001b[38;5;241m.\u001b[39mRLock()\n\u001b[0;32m--> 206\u001b[0m \u001b[38;5;28msuper\u001b[39m(Task, \u001b[38;5;28mself\u001b[39m)\u001b[38;5;241m.\u001b[39m\u001b[38;5;21m__init__\u001b[39m(\u001b[38;5;241m*\u001b[39m\u001b[38;5;241m*\u001b[39mkwargs)\n\u001b[1;32m    207\u001b[0m \u001b[38;5;28mself\u001b[39m\u001b[38;5;241m.\u001b[39m_arguments \u001b[38;5;241m=\u001b[39m _Arguments(\u001b[38;5;28mself\u001b[39m)\n\u001b[1;32m    208\u001b[0m \u001b[38;5;28mself\u001b[39m\u001b[38;5;241m.\u001b[39m_logger \u001b[38;5;241m=\u001b[39m \u001b[38;5;28;01mNone\u001b[39;00m\n",
      "File \u001b[0;32m~/Sinyaev_VV/anaconda3/envs/yolov8/lib/python3.11/site-packages/clearml/backend_interface/task/task.py:161\u001b[0m, in \u001b[0;36mTask.__init__\u001b[0;34m(self, session, task_id, log, project_name, task_name, task_type, log_to_backend, raise_on_validation_errors, force_create)\u001b[0m\n\u001b[1;32m    159\u001b[0m task_id \u001b[38;5;241m=\u001b[39m \u001b[38;5;28mself\u001b[39m\u001b[38;5;241m.\u001b[39m_resolve_task_id(task_id, log\u001b[38;5;241m=\u001b[39mlog) \u001b[38;5;28;01mif\u001b[39;00m \u001b[38;5;129;01mnot\u001b[39;00m force_create \u001b[38;5;28;01melse\u001b[39;00m \u001b[38;5;28;01mNone\u001b[39;00m\n\u001b[1;32m    160\u001b[0m \u001b[38;5;28mself\u001b[39m\u001b[38;5;241m.\u001b[39m__edit_lock \u001b[38;5;241m=\u001b[39m \u001b[38;5;28;01mNone\u001b[39;00m\n\u001b[0;32m--> 161\u001b[0m \u001b[38;5;28msuper\u001b[39m(Task, \u001b[38;5;28mself\u001b[39m)\u001b[38;5;241m.\u001b[39m\u001b[38;5;21m__init__\u001b[39m(\u001b[38;5;28mid\u001b[39m\u001b[38;5;241m=\u001b[39mtask_id, session\u001b[38;5;241m=\u001b[39msession, log\u001b[38;5;241m=\u001b[39mlog)\n\u001b[1;32m    162\u001b[0m \u001b[38;5;28mself\u001b[39m\u001b[38;5;241m.\u001b[39m_project_name \u001b[38;5;241m=\u001b[39m \u001b[38;5;28;01mNone\u001b[39;00m\n\u001b[1;32m    163\u001b[0m \u001b[38;5;28mself\u001b[39m\u001b[38;5;241m.\u001b[39m_storage_uri \u001b[38;5;241m=\u001b[39m \u001b[38;5;28;01mNone\u001b[39;00m\n",
      "File \u001b[0;32m~/Sinyaev_VV/anaconda3/envs/yolov8/lib/python3.11/site-packages/clearml/backend_interface/base.py:147\u001b[0m, in \u001b[0;36mIdObjectBase.__init__\u001b[0;34m(self, id, session, log, **kwargs)\u001b[0m\n\u001b[1;32m    146\u001b[0m \u001b[38;5;28;01mdef\u001b[39;00m \u001b[38;5;21m__init__\u001b[39m(\u001b[38;5;28mself\u001b[39m, \u001b[38;5;28mid\u001b[39m, session\u001b[38;5;241m=\u001b[39m\u001b[38;5;28;01mNone\u001b[39;00m, log\u001b[38;5;241m=\u001b[39m\u001b[38;5;28;01mNone\u001b[39;00m, \u001b[38;5;241m*\u001b[39m\u001b[38;5;241m*\u001b[39mkwargs):\n\u001b[0;32m--> 147\u001b[0m     \u001b[38;5;28msuper\u001b[39m(IdObjectBase, \u001b[38;5;28mself\u001b[39m)\u001b[38;5;241m.\u001b[39m\u001b[38;5;21m__init__\u001b[39m(session, log, \u001b[38;5;241m*\u001b[39m\u001b[38;5;241m*\u001b[39mkwargs)\n\u001b[1;32m    148\u001b[0m     \u001b[38;5;28mself\u001b[39m\u001b[38;5;241m.\u001b[39m_data \u001b[38;5;241m=\u001b[39m \u001b[38;5;28;01mNone\u001b[39;00m\n\u001b[1;32m    149\u001b[0m     \u001b[38;5;28mself\u001b[39m\u001b[38;5;241m.\u001b[39m_id \u001b[38;5;241m=\u001b[39m \u001b[38;5;28;01mNone\u001b[39;00m\n",
      "File \u001b[0;32m~/Sinyaev_VV/anaconda3/envs/yolov8/lib/python3.11/site-packages/clearml/backend_interface/base.py:41\u001b[0m, in \u001b[0;36mInterfaceBase.__init__\u001b[0;34m(self, session, log, **kwargs)\u001b[0m\n\u001b[1;32m     39\u001b[0m \u001b[38;5;28;01mdef\u001b[39;00m \u001b[38;5;21m__init__\u001b[39m(\u001b[38;5;28mself\u001b[39m, session\u001b[38;5;241m=\u001b[39m\u001b[38;5;28;01mNone\u001b[39;00m, log\u001b[38;5;241m=\u001b[39m\u001b[38;5;28;01mNone\u001b[39;00m, \u001b[38;5;241m*\u001b[39m\u001b[38;5;241m*\u001b[39mkwargs):\n\u001b[1;32m     40\u001b[0m     \u001b[38;5;28msuper\u001b[39m(InterfaceBase, \u001b[38;5;28mself\u001b[39m)\u001b[38;5;241m.\u001b[39m\u001b[38;5;21m__init__\u001b[39m()\n\u001b[0;32m---> 41\u001b[0m     \u001b[38;5;28mself\u001b[39m\u001b[38;5;241m.\u001b[39m_session \u001b[38;5;241m=\u001b[39m session \u001b[38;5;129;01mor\u001b[39;00m \u001b[38;5;28mself\u001b[39m\u001b[38;5;241m.\u001b[39m_get_default_session()\n\u001b[1;32m     42\u001b[0m     \u001b[38;5;28mself\u001b[39m\u001b[38;5;241m.\u001b[39m_log \u001b[38;5;241m=\u001b[39m log \u001b[38;5;129;01mor\u001b[39;00m \u001b[38;5;28mself\u001b[39m\u001b[38;5;241m.\u001b[39m_create_log()\n",
      "File \u001b[0;32m~/Sinyaev_VV/anaconda3/envs/yolov8/lib/python3.11/site-packages/clearml/backend_interface/base.py:117\u001b[0m, in \u001b[0;36mInterfaceBase._get_default_session\u001b[0;34m(cls)\u001b[0m\n\u001b[1;32m    114\u001b[0m \u001b[38;5;129m@classmethod\u001b[39m\n\u001b[1;32m    115\u001b[0m \u001b[38;5;28;01mdef\u001b[39;00m \u001b[38;5;21m_get_default_session\u001b[39m(\u001b[38;5;28mcls\u001b[39m):\n\u001b[1;32m    116\u001b[0m     \u001b[38;5;28;01mif\u001b[39;00m \u001b[38;5;129;01mnot\u001b[39;00m InterfaceBase\u001b[38;5;241m.\u001b[39m_default_session:\n\u001b[0;32m--> 117\u001b[0m         InterfaceBase\u001b[38;5;241m.\u001b[39m_default_session \u001b[38;5;241m=\u001b[39m Session(\n\u001b[1;32m    118\u001b[0m             initialize_logging\u001b[38;5;241m=\u001b[39m\u001b[38;5;28;01mFalse\u001b[39;00m,\n\u001b[1;32m    119\u001b[0m             config\u001b[38;5;241m=\u001b[39mconfig_obj,\n\u001b[1;32m    120\u001b[0m             api_key\u001b[38;5;241m=\u001b[39mENV_ACCESS_KEY\u001b[38;5;241m.\u001b[39mget(),\n\u001b[1;32m    121\u001b[0m             secret_key\u001b[38;5;241m=\u001b[39mENV_SECRET_KEY\u001b[38;5;241m.\u001b[39mget(),\n\u001b[1;32m    122\u001b[0m         )\n\u001b[1;32m    123\u001b[0m     \u001b[38;5;28;01mreturn\u001b[39;00m InterfaceBase\u001b[38;5;241m.\u001b[39m_default_session\n",
      "File \u001b[0;32m~/Sinyaev_VV/anaconda3/envs/yolov8/lib/python3.11/site-packages/clearml/backend_api/session/session.py:157\u001b[0m, in \u001b[0;36mSession.__init__\u001b[0;34m(self, worker, api_key, secret_key, host, logger, verbose, config, http_retries_config, **kwargs)\u001b[0m\n\u001b[1;32m    154\u001b[0m     \u001b[38;5;28;01mfrom\u001b[39;00m \u001b[38;5;21;01mclearml\u001b[39;00m\u001b[38;5;21;01m.\u001b[39;00m\u001b[38;5;21;01mconfig\u001b[39;00m \u001b[38;5;28;01mimport\u001b[39;00m ConfigWrapper\n\u001b[1;32m    155\u001b[0m     \u001b[38;5;28mself\u001b[39m\u001b[38;5;241m.\u001b[39mconfig \u001b[38;5;241m=\u001b[39m ConfigWrapper\u001b[38;5;241m.\u001b[39m_init()\n\u001b[0;32m--> 157\u001b[0m \u001b[38;5;28mself\u001b[39m\u001b[38;5;241m.\u001b[39m_connect()\n",
      "File \u001b[0;32m~/Sinyaev_VV/anaconda3/envs/yolov8/lib/python3.11/site-packages/clearml/backend_api/session/session.py:217\u001b[0m, in \u001b[0;36mSession._connect\u001b[0;34m(self)\u001b[0m\n\u001b[1;32m    212\u001b[0m     \u001b[38;5;28mself\u001b[39m\u001b[38;5;241m.\u001b[39m__secret_key \u001b[38;5;241m=\u001b[39m \u001b[38;5;28mself\u001b[39m\u001b[38;5;241m.\u001b[39m__init_secret_key \u001b[38;5;129;01mor\u001b[39;00m ENV_SECRET_KEY\u001b[38;5;241m.\u001b[39mget(\n\u001b[1;32m    213\u001b[0m         default\u001b[38;5;241m=\u001b[39m(\u001b[38;5;28mself\u001b[39m\u001b[38;5;241m.\u001b[39mconfig\u001b[38;5;241m.\u001b[39mget(\u001b[38;5;124m\"\u001b[39m\u001b[38;5;124mapi.credentials.secret_key\u001b[39m\u001b[38;5;124m\"\u001b[39m, \u001b[38;5;28;01mNone\u001b[39;00m) \u001b[38;5;129;01mor\u001b[39;00m \u001b[38;5;28mself\u001b[39m\u001b[38;5;241m.\u001b[39mdefault_secret)\n\u001b[1;32m    214\u001b[0m     )\n\u001b[1;32m    216\u001b[0m \u001b[38;5;28;01mif\u001b[39;00m \u001b[38;5;129;01mnot\u001b[39;00m \u001b[38;5;28mself\u001b[39m\u001b[38;5;241m.\u001b[39msecret_key \u001b[38;5;129;01mand\u001b[39;00m \u001b[38;5;129;01mnot\u001b[39;00m \u001b[38;5;28mself\u001b[39m\u001b[38;5;241m.\u001b[39maccess_key \u001b[38;5;129;01mand\u001b[39;00m \u001b[38;5;129;01mnot\u001b[39;00m \u001b[38;5;28mself\u001b[39m\u001b[38;5;241m.\u001b[39m__auth_token:\n\u001b[0;32m--> 217\u001b[0m     \u001b[38;5;28;01mraise\u001b[39;00m MissingConfigError()\n\u001b[1;32m    219\u001b[0m \u001b[38;5;28msuper\u001b[39m(Session, \u001b[38;5;28mself\u001b[39m)\u001b[38;5;241m.\u001b[39m\u001b[38;5;21m__init__\u001b[39m(\n\u001b[1;32m    220\u001b[0m     \u001b[38;5;241m*\u001b[39m\u001b[38;5;241m*\u001b[39m\u001b[38;5;28mself\u001b[39m\u001b[38;5;241m.\u001b[39m__token_manager_kwargs,\n\u001b[1;32m    221\u001b[0m     token_expiration_threshold_sec\u001b[38;5;241m=\u001b[39mtoken_expiration_threshold_sec,\n\u001b[1;32m    222\u001b[0m     req_token_expiration_sec\u001b[38;5;241m=\u001b[39mreq_token_expiration_sec\n\u001b[1;32m    223\u001b[0m )\n\u001b[1;32m    224\u001b[0m \u001b[38;5;28mself\u001b[39m\u001b[38;5;241m.\u001b[39mrefresh_token()\n",
      "\u001b[0;31mMissingConfigError\u001b[0m: It seems ClearML is not configured on this machine!\nTo get started with ClearML, setup your own 'clearml-server' or create a free account at https://app.clear.ml\nSetup instructions can be found here: https://clear.ml/docs"
     ]
    }
   ],
   "source": [
    "#!clearml-init\n",
    "#!pip install clearml>=1.2.0\n",
    "\n",
    "\n",
    "task = Task.init(project_name=\"Variant0.1\", task_name=\"YOLOv8_training\")\n",
    "\n",
    "imgsz = 640\n",
    "epochs = 20\n",
    "batch = 6\n",
    "name = 'YOLOv8s'\n",
    "\n",
    "# Load a model\n",
    "model_variant = \"yolov8s\"\n",
    "# Log \"model_variant\" parameter to task\n",
    "task.set_parameter(\"model_variant\", model_variant)\n",
    "\n",
    "# Load the YOLOv8 model\n",
    "model = YOLO(f'{model_variant}.pt') \n",
    "\n",
    "# Put all YOLOv8 arguments in a dictionary and pass it to ClearML\n",
    "# When the arguments are later changed in UI, they will be overridden here!\n",
    "args = dict(epochs=epochs, \n",
    "            imgsz=imgsz,\n",
    "            batch=batch)\n",
    "\n",
    "task.connect(args)\n",
    "\n",
    "# Train the model \n",
    "# If running remotely, the arguments may be overridden by ClearML if they were changed in the UI\n",
    "results = model.train(**args)"
   ]
  },
  {
   "cell_type": "code",
   "execution_count": 10,
   "id": "88d49bdc-78ac-46d7-8c9c-b7a773ca0256",
   "metadata": {},
   "outputs": [],
   "source": [
    "from ultralytics import YOLO\n",
    "from clearml import Task, Logger"
   ]
  },
  {
   "cell_type": "code",
   "execution_count": null,
   "id": "c7d994e4-5ef5-4558-b2a8-fbc172112104",
   "metadata": {},
   "outputs": [],
   "source": [
    "model = YOLO('yolov8s.pt')\n",
    "\n",
    "results = model.train(\n",
    "   data='/data_preparing/Dataset_for_YOLO/data.yaml',\n",
    "   imgsz=600,\n",
    "   epochs=20,\n",
    "   batch=6,\n",
    "   device=0,\n",
    "   name='YOLOv8s'\n",
    ")"
   ]
  },
  {
   "cell_type": "code",
   "execution_count": 21,
   "id": "d051e10a-b23e-4f1b-9849-11ad2d735902",
   "metadata": {},
   "outputs": [
    {
     "ename": "MissingConfigError",
     "evalue": "It seems ClearML is not configured on this machine!\nTo get started with ClearML, setup your own 'clearml-server' or create a free account at https://app.clear.ml\nSetup instructions can be found here: https://clear.ml/docs",
     "output_type": "error",
     "traceback": [
      "\u001b[0;31m---------------------------------------------------------------------------\u001b[0m",
      "\u001b[0;31mMissingConfigError\u001b[0m                        Traceback (most recent call last)",
      "Cell \u001b[0;32mIn[21], line 6\u001b[0m\n\u001b[1;32m      4\u001b[0m \u001b[38;5;66;03m# Add the following two lines to your code, to have ClearML automatically log your experiment\u001b[39;00m\n\u001b[1;32m      5\u001b[0m \u001b[38;5;28;01mfrom\u001b[39;00m \u001b[38;5;21;01mclearml\u001b[39;00m \u001b[38;5;28;01mimport\u001b[39;00m Task\n\u001b[0;32m----> 6\u001b[0m task \u001b[38;5;241m=\u001b[39m Task\u001b[38;5;241m.\u001b[39minit(project_name\u001b[38;5;241m=\u001b[39m\u001b[38;5;124m\"\u001b[39m\u001b[38;5;124mVariant0.1\u001b[39m\u001b[38;5;124m\"\u001b[39m, task_name\u001b[38;5;241m=\u001b[39m\u001b[38;5;124m\"\u001b[39m\u001b[38;5;124mYOLOv8_training\u001b[39m\u001b[38;5;124m\"\u001b[39m)\n\u001b[1;32m      8\u001b[0m \u001b[38;5;66;03m# Create a plot using matplotlib, or you can also use plotly\u001b[39;00m\n\u001b[1;32m      9\u001b[0m plt\u001b[38;5;241m.\u001b[39mscatter(np\u001b[38;5;241m.\u001b[39mrandom\u001b[38;5;241m.\u001b[39mrand(\u001b[38;5;241m50\u001b[39m), np\u001b[38;5;241m.\u001b[39mrandom\u001b[38;5;241m.\u001b[39mrand(\u001b[38;5;241m50\u001b[39m), c\u001b[38;5;241m=\u001b[39mnp\u001b[38;5;241m.\u001b[39mrandom\u001b[38;5;241m.\u001b[39mrand(\u001b[38;5;241m50\u001b[39m), alpha\u001b[38;5;241m=\u001b[39m\u001b[38;5;241m0.5\u001b[39m)\n",
      "File \u001b[0;32m~/Sinyaev_VV/anaconda3/envs/yolov8/lib/python3.11/site-packages/clearml/task.py:563\u001b[0m, in \u001b[0;36mTask.init\u001b[0;34m(cls, project_name, task_name, task_type, tags, reuse_last_task_id, continue_last_task, output_uri, auto_connect_arg_parser, auto_connect_frameworks, auto_resource_monitoring, auto_connect_streams, deferred_init)\u001b[0m\n\u001b[1;32m    561\u001b[0m \u001b[38;5;28;01melif\u001b[39;00m \u001b[38;5;129;01mnot\u001b[39;00m is_sub_process_task_id:\n\u001b[1;32m    562\u001b[0m     \u001b[38;5;28;01mtry\u001b[39;00m:\n\u001b[0;32m--> 563\u001b[0m         task \u001b[38;5;241m=\u001b[39m \u001b[38;5;28mcls\u001b[39m\u001b[38;5;241m.\u001b[39m_create_dev_task(\n\u001b[1;32m    564\u001b[0m             default_project_name\u001b[38;5;241m=\u001b[39mproject_name,\n\u001b[1;32m    565\u001b[0m             default_task_name\u001b[38;5;241m=\u001b[39mtask_name,\n\u001b[1;32m    566\u001b[0m             default_task_type\u001b[38;5;241m=\u001b[39mtask_type,\n\u001b[1;32m    567\u001b[0m             tags\u001b[38;5;241m=\u001b[39mtags,\n\u001b[1;32m    568\u001b[0m             reuse_last_task_id\u001b[38;5;241m=\u001b[39mreuse_last_task_id,\n\u001b[1;32m    569\u001b[0m             continue_last_task\u001b[38;5;241m=\u001b[39mcontinue_last_task,\n\u001b[1;32m    570\u001b[0m             detect_repo\u001b[38;5;241m=\u001b[39m\u001b[38;5;28;01mFalse\u001b[39;00m \u001b[38;5;28;01mif\u001b[39;00m (\n\u001b[1;32m    571\u001b[0m                     \u001b[38;5;28misinstance\u001b[39m(auto_connect_frameworks, \u001b[38;5;28mdict\u001b[39m) \u001b[38;5;129;01mand\u001b[39;00m\n\u001b[1;32m    572\u001b[0m                     \u001b[38;5;129;01mnot\u001b[39;00m auto_connect_frameworks\u001b[38;5;241m.\u001b[39mget(\u001b[38;5;124m'\u001b[39m\u001b[38;5;124mdetect_repository\u001b[39m\u001b[38;5;124m'\u001b[39m, \u001b[38;5;28;01mTrue\u001b[39;00m)) \u001b[38;5;28;01melse\u001b[39;00m \u001b[38;5;28;01mTrue\u001b[39;00m,\n\u001b[1;32m    573\u001b[0m             auto_connect_streams\u001b[38;5;241m=\u001b[39mauto_connect_streams,\n\u001b[1;32m    574\u001b[0m         )\n\u001b[1;32m    575\u001b[0m     \u001b[38;5;28;01mexcept\u001b[39;00m MissingConfigError \u001b[38;5;28;01mas\u001b[39;00m e:\n\u001b[1;32m    576\u001b[0m         \u001b[38;5;28;01mif\u001b[39;00m \u001b[38;5;129;01mnot\u001b[39;00m ENV_IGNORE_MISSING_CONFIG\u001b[38;5;241m.\u001b[39mget():\n",
      "File \u001b[0;32m~/Sinyaev_VV/anaconda3/envs/yolov8/lib/python3.11/site-packages/clearml/task.py:3527\u001b[0m, in \u001b[0;36mTask._create_dev_task\u001b[0;34m(cls, default_project_name, default_task_name, default_task_type, tags, reuse_last_task_id, continue_last_task, detect_repo, auto_connect_streams)\u001b[0m\n\u001b[1;32m   3525\u001b[0m \u001b[38;5;66;03m# create a new task\u001b[39;00m\n\u001b[1;32m   3526\u001b[0m \u001b[38;5;28;01mif\u001b[39;00m \u001b[38;5;129;01mnot\u001b[39;00m default_task_id:\n\u001b[0;32m-> 3527\u001b[0m     task \u001b[38;5;241m=\u001b[39m \u001b[38;5;28mcls\u001b[39m(\n\u001b[1;32m   3528\u001b[0m         private\u001b[38;5;241m=\u001b[39m\u001b[38;5;28mcls\u001b[39m\u001b[38;5;241m.\u001b[39m__create_protection,\n\u001b[1;32m   3529\u001b[0m         project_name\u001b[38;5;241m=\u001b[39mdefault_project_name,\n\u001b[1;32m   3530\u001b[0m         task_name\u001b[38;5;241m=\u001b[39mdefault_task_name,\n\u001b[1;32m   3531\u001b[0m         task_type\u001b[38;5;241m=\u001b[39mdefault_task_type,\n\u001b[1;32m   3532\u001b[0m         log_to_backend\u001b[38;5;241m=\u001b[39m\u001b[38;5;28;01mTrue\u001b[39;00m,\n\u001b[1;32m   3533\u001b[0m     )\n\u001b[1;32m   3534\u001b[0m     \u001b[38;5;66;03m# no need to reload yet, we clear this before the end of the function\u001b[39;00m\n\u001b[1;32m   3535\u001b[0m     task\u001b[38;5;241m.\u001b[39m_reload_skip_flag \u001b[38;5;241m=\u001b[39m \u001b[38;5;28;01mTrue\u001b[39;00m\n",
      "File \u001b[0;32m~/Sinyaev_VV/anaconda3/envs/yolov8/lib/python3.11/site-packages/clearml/task.py:206\u001b[0m, in \u001b[0;36mTask.__init__\u001b[0;34m(self, private, **kwargs)\u001b[0m\n\u001b[1;32m    202\u001b[0m     \u001b[38;5;28;01mraise\u001b[39;00m UsageError(\n\u001b[1;32m    203\u001b[0m         \u001b[38;5;124m'\u001b[39m\u001b[38;5;124mTask object cannot be instantiated externally, use Task.current_task() or Task.get_task(...)\u001b[39m\u001b[38;5;124m'\u001b[39m)\n\u001b[1;32m    204\u001b[0m \u001b[38;5;28mself\u001b[39m\u001b[38;5;241m.\u001b[39m_repo_detect_lock \u001b[38;5;241m=\u001b[39m threading\u001b[38;5;241m.\u001b[39mRLock()\n\u001b[0;32m--> 206\u001b[0m \u001b[38;5;28msuper\u001b[39m(Task, \u001b[38;5;28mself\u001b[39m)\u001b[38;5;241m.\u001b[39m\u001b[38;5;21m__init__\u001b[39m(\u001b[38;5;241m*\u001b[39m\u001b[38;5;241m*\u001b[39mkwargs)\n\u001b[1;32m    207\u001b[0m \u001b[38;5;28mself\u001b[39m\u001b[38;5;241m.\u001b[39m_arguments \u001b[38;5;241m=\u001b[39m _Arguments(\u001b[38;5;28mself\u001b[39m)\n\u001b[1;32m    208\u001b[0m \u001b[38;5;28mself\u001b[39m\u001b[38;5;241m.\u001b[39m_logger \u001b[38;5;241m=\u001b[39m \u001b[38;5;28;01mNone\u001b[39;00m\n",
      "File \u001b[0;32m~/Sinyaev_VV/anaconda3/envs/yolov8/lib/python3.11/site-packages/clearml/backend_interface/task/task.py:161\u001b[0m, in \u001b[0;36mTask.__init__\u001b[0;34m(self, session, task_id, log, project_name, task_name, task_type, log_to_backend, raise_on_validation_errors, force_create)\u001b[0m\n\u001b[1;32m    159\u001b[0m task_id \u001b[38;5;241m=\u001b[39m \u001b[38;5;28mself\u001b[39m\u001b[38;5;241m.\u001b[39m_resolve_task_id(task_id, log\u001b[38;5;241m=\u001b[39mlog) \u001b[38;5;28;01mif\u001b[39;00m \u001b[38;5;129;01mnot\u001b[39;00m force_create \u001b[38;5;28;01melse\u001b[39;00m \u001b[38;5;28;01mNone\u001b[39;00m\n\u001b[1;32m    160\u001b[0m \u001b[38;5;28mself\u001b[39m\u001b[38;5;241m.\u001b[39m__edit_lock \u001b[38;5;241m=\u001b[39m \u001b[38;5;28;01mNone\u001b[39;00m\n\u001b[0;32m--> 161\u001b[0m \u001b[38;5;28msuper\u001b[39m(Task, \u001b[38;5;28mself\u001b[39m)\u001b[38;5;241m.\u001b[39m\u001b[38;5;21m__init__\u001b[39m(\u001b[38;5;28mid\u001b[39m\u001b[38;5;241m=\u001b[39mtask_id, session\u001b[38;5;241m=\u001b[39msession, log\u001b[38;5;241m=\u001b[39mlog)\n\u001b[1;32m    162\u001b[0m \u001b[38;5;28mself\u001b[39m\u001b[38;5;241m.\u001b[39m_project_name \u001b[38;5;241m=\u001b[39m \u001b[38;5;28;01mNone\u001b[39;00m\n\u001b[1;32m    163\u001b[0m \u001b[38;5;28mself\u001b[39m\u001b[38;5;241m.\u001b[39m_storage_uri \u001b[38;5;241m=\u001b[39m \u001b[38;5;28;01mNone\u001b[39;00m\n",
      "File \u001b[0;32m~/Sinyaev_VV/anaconda3/envs/yolov8/lib/python3.11/site-packages/clearml/backend_interface/base.py:147\u001b[0m, in \u001b[0;36mIdObjectBase.__init__\u001b[0;34m(self, id, session, log, **kwargs)\u001b[0m\n\u001b[1;32m    146\u001b[0m \u001b[38;5;28;01mdef\u001b[39;00m \u001b[38;5;21m__init__\u001b[39m(\u001b[38;5;28mself\u001b[39m, \u001b[38;5;28mid\u001b[39m, session\u001b[38;5;241m=\u001b[39m\u001b[38;5;28;01mNone\u001b[39;00m, log\u001b[38;5;241m=\u001b[39m\u001b[38;5;28;01mNone\u001b[39;00m, \u001b[38;5;241m*\u001b[39m\u001b[38;5;241m*\u001b[39mkwargs):\n\u001b[0;32m--> 147\u001b[0m     \u001b[38;5;28msuper\u001b[39m(IdObjectBase, \u001b[38;5;28mself\u001b[39m)\u001b[38;5;241m.\u001b[39m\u001b[38;5;21m__init__\u001b[39m(session, log, \u001b[38;5;241m*\u001b[39m\u001b[38;5;241m*\u001b[39mkwargs)\n\u001b[1;32m    148\u001b[0m     \u001b[38;5;28mself\u001b[39m\u001b[38;5;241m.\u001b[39m_data \u001b[38;5;241m=\u001b[39m \u001b[38;5;28;01mNone\u001b[39;00m\n\u001b[1;32m    149\u001b[0m     \u001b[38;5;28mself\u001b[39m\u001b[38;5;241m.\u001b[39m_id \u001b[38;5;241m=\u001b[39m \u001b[38;5;28;01mNone\u001b[39;00m\n",
      "File \u001b[0;32m~/Sinyaev_VV/anaconda3/envs/yolov8/lib/python3.11/site-packages/clearml/backend_interface/base.py:41\u001b[0m, in \u001b[0;36mInterfaceBase.__init__\u001b[0;34m(self, session, log, **kwargs)\u001b[0m\n\u001b[1;32m     39\u001b[0m \u001b[38;5;28;01mdef\u001b[39;00m \u001b[38;5;21m__init__\u001b[39m(\u001b[38;5;28mself\u001b[39m, session\u001b[38;5;241m=\u001b[39m\u001b[38;5;28;01mNone\u001b[39;00m, log\u001b[38;5;241m=\u001b[39m\u001b[38;5;28;01mNone\u001b[39;00m, \u001b[38;5;241m*\u001b[39m\u001b[38;5;241m*\u001b[39mkwargs):\n\u001b[1;32m     40\u001b[0m     \u001b[38;5;28msuper\u001b[39m(InterfaceBase, \u001b[38;5;28mself\u001b[39m)\u001b[38;5;241m.\u001b[39m\u001b[38;5;21m__init__\u001b[39m()\n\u001b[0;32m---> 41\u001b[0m     \u001b[38;5;28mself\u001b[39m\u001b[38;5;241m.\u001b[39m_session \u001b[38;5;241m=\u001b[39m session \u001b[38;5;129;01mor\u001b[39;00m \u001b[38;5;28mself\u001b[39m\u001b[38;5;241m.\u001b[39m_get_default_session()\n\u001b[1;32m     42\u001b[0m     \u001b[38;5;28mself\u001b[39m\u001b[38;5;241m.\u001b[39m_log \u001b[38;5;241m=\u001b[39m log \u001b[38;5;129;01mor\u001b[39;00m \u001b[38;5;28mself\u001b[39m\u001b[38;5;241m.\u001b[39m_create_log()\n",
      "File \u001b[0;32m~/Sinyaev_VV/anaconda3/envs/yolov8/lib/python3.11/site-packages/clearml/backend_interface/base.py:117\u001b[0m, in \u001b[0;36mInterfaceBase._get_default_session\u001b[0;34m(cls)\u001b[0m\n\u001b[1;32m    114\u001b[0m \u001b[38;5;129m@classmethod\u001b[39m\n\u001b[1;32m    115\u001b[0m \u001b[38;5;28;01mdef\u001b[39;00m \u001b[38;5;21m_get_default_session\u001b[39m(\u001b[38;5;28mcls\u001b[39m):\n\u001b[1;32m    116\u001b[0m     \u001b[38;5;28;01mif\u001b[39;00m \u001b[38;5;129;01mnot\u001b[39;00m InterfaceBase\u001b[38;5;241m.\u001b[39m_default_session:\n\u001b[0;32m--> 117\u001b[0m         InterfaceBase\u001b[38;5;241m.\u001b[39m_default_session \u001b[38;5;241m=\u001b[39m Session(\n\u001b[1;32m    118\u001b[0m             initialize_logging\u001b[38;5;241m=\u001b[39m\u001b[38;5;28;01mFalse\u001b[39;00m,\n\u001b[1;32m    119\u001b[0m             config\u001b[38;5;241m=\u001b[39mconfig_obj,\n\u001b[1;32m    120\u001b[0m             api_key\u001b[38;5;241m=\u001b[39mENV_ACCESS_KEY\u001b[38;5;241m.\u001b[39mget(),\n\u001b[1;32m    121\u001b[0m             secret_key\u001b[38;5;241m=\u001b[39mENV_SECRET_KEY\u001b[38;5;241m.\u001b[39mget(),\n\u001b[1;32m    122\u001b[0m         )\n\u001b[1;32m    123\u001b[0m     \u001b[38;5;28;01mreturn\u001b[39;00m InterfaceBase\u001b[38;5;241m.\u001b[39m_default_session\n",
      "File \u001b[0;32m~/Sinyaev_VV/anaconda3/envs/yolov8/lib/python3.11/site-packages/clearml/backend_api/session/session.py:157\u001b[0m, in \u001b[0;36mSession.__init__\u001b[0;34m(self, worker, api_key, secret_key, host, logger, verbose, config, http_retries_config, **kwargs)\u001b[0m\n\u001b[1;32m    154\u001b[0m     \u001b[38;5;28;01mfrom\u001b[39;00m \u001b[38;5;21;01mclearml\u001b[39;00m\u001b[38;5;21;01m.\u001b[39;00m\u001b[38;5;21;01mconfig\u001b[39;00m \u001b[38;5;28;01mimport\u001b[39;00m ConfigWrapper\n\u001b[1;32m    155\u001b[0m     \u001b[38;5;28mself\u001b[39m\u001b[38;5;241m.\u001b[39mconfig \u001b[38;5;241m=\u001b[39m ConfigWrapper\u001b[38;5;241m.\u001b[39m_init()\n\u001b[0;32m--> 157\u001b[0m \u001b[38;5;28mself\u001b[39m\u001b[38;5;241m.\u001b[39m_connect()\n",
      "File \u001b[0;32m~/Sinyaev_VV/anaconda3/envs/yolov8/lib/python3.11/site-packages/clearml/backend_api/session/session.py:217\u001b[0m, in \u001b[0;36mSession._connect\u001b[0;34m(self)\u001b[0m\n\u001b[1;32m    212\u001b[0m     \u001b[38;5;28mself\u001b[39m\u001b[38;5;241m.\u001b[39m__secret_key \u001b[38;5;241m=\u001b[39m \u001b[38;5;28mself\u001b[39m\u001b[38;5;241m.\u001b[39m__init_secret_key \u001b[38;5;129;01mor\u001b[39;00m ENV_SECRET_KEY\u001b[38;5;241m.\u001b[39mget(\n\u001b[1;32m    213\u001b[0m         default\u001b[38;5;241m=\u001b[39m(\u001b[38;5;28mself\u001b[39m\u001b[38;5;241m.\u001b[39mconfig\u001b[38;5;241m.\u001b[39mget(\u001b[38;5;124m\"\u001b[39m\u001b[38;5;124mapi.credentials.secret_key\u001b[39m\u001b[38;5;124m\"\u001b[39m, \u001b[38;5;28;01mNone\u001b[39;00m) \u001b[38;5;129;01mor\u001b[39;00m \u001b[38;5;28mself\u001b[39m\u001b[38;5;241m.\u001b[39mdefault_secret)\n\u001b[1;32m    214\u001b[0m     )\n\u001b[1;32m    216\u001b[0m \u001b[38;5;28;01mif\u001b[39;00m \u001b[38;5;129;01mnot\u001b[39;00m \u001b[38;5;28mself\u001b[39m\u001b[38;5;241m.\u001b[39msecret_key \u001b[38;5;129;01mand\u001b[39;00m \u001b[38;5;129;01mnot\u001b[39;00m \u001b[38;5;28mself\u001b[39m\u001b[38;5;241m.\u001b[39maccess_key \u001b[38;5;129;01mand\u001b[39;00m \u001b[38;5;129;01mnot\u001b[39;00m \u001b[38;5;28mself\u001b[39m\u001b[38;5;241m.\u001b[39m__auth_token:\n\u001b[0;32m--> 217\u001b[0m     \u001b[38;5;28;01mraise\u001b[39;00m MissingConfigError()\n\u001b[1;32m    219\u001b[0m \u001b[38;5;28msuper\u001b[39m(Session, \u001b[38;5;28mself\u001b[39m)\u001b[38;5;241m.\u001b[39m\u001b[38;5;21m__init__\u001b[39m(\n\u001b[1;32m    220\u001b[0m     \u001b[38;5;241m*\u001b[39m\u001b[38;5;241m*\u001b[39m\u001b[38;5;28mself\u001b[39m\u001b[38;5;241m.\u001b[39m__token_manager_kwargs,\n\u001b[1;32m    221\u001b[0m     token_expiration_threshold_sec\u001b[38;5;241m=\u001b[39mtoken_expiration_threshold_sec,\n\u001b[1;32m    222\u001b[0m     req_token_expiration_sec\u001b[38;5;241m=\u001b[39mreq_token_expiration_sec\n\u001b[1;32m    223\u001b[0m )\n\u001b[1;32m    224\u001b[0m \u001b[38;5;28mself\u001b[39m\u001b[38;5;241m.\u001b[39mrefresh_token()\n",
      "\u001b[0;31mMissingConfigError\u001b[0m: It seems ClearML is not configured on this machine!\nTo get started with ClearML, setup your own 'clearml-server' or create a free account at https://app.clear.ml\nSetup instructions can be found here: https://clear.ml/docs"
     ]
    }
   ],
   "source": [
    "import numpy as np\n",
    "import matplotlib.pyplot as plt\n",
    "\n",
    "# Add the following two lines to your code, to have ClearML automatically log your experiment\n",
    "from clearml import Task\n",
    "task = Task.init(project_name=\"Variant0.1\", task_name=\"YOLOv8_training\")\n",
    "\n",
    "# Create a plot using matplotlib, or you can also use plotly\n",
    "plt.scatter(np.random.rand(50), np.random.rand(50), c=np.random.rand(50), alpha=0.5)\n",
    "# Plot will be reported automatically to clearml\n",
    "plt.show()\n",
    "\n",
    "# Report some scalars\n",
    "for i in range(100):\n",
    "    task.get_logger().report_scalar(title=\"graph title\", series=\"linear\", value=i*2, iteration=i)"
   ]
  },
  {
   "cell_type": "code",
   "execution_count": null,
   "id": "c7ced8eb-3ba4-43f6-9792-46b7c264e263",
   "metadata": {},
   "outputs": [],
   "source": []
  }
 ],
 "metadata": {
  "kernelspec": {
   "display_name": "Python 3 (ipykernel)",
   "language": "python",
   "name": "python3"
  },
  "language_info": {
   "codemirror_mode": {
    "name": "ipython",
    "version": 3
   },
   "file_extension": ".py",
   "mimetype": "text/x-python",
   "name": "python",
   "nbconvert_exporter": "python",
   "pygments_lexer": "ipython3",
   "version": "3.11.5"
  }
 },
 "nbformat": 4,
 "nbformat_minor": 5
}
